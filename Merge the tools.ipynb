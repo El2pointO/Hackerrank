{
 "cells": [
  {
   "cell_type": "markdown",
   "metadata": {},
   "source": [
    "Consider the following:\n",
    "\n",
    "* A string, s , of length n where s = c1 + c2 + c3....cN .\n",
    "* An integer k, , where k is a factor of n .\n",
    "We can split s into n/k substrings where each subtring, T , consists of a contiguous block of k characters in s . Then, use each T to create string  u such that:\n",
    "\n",
    "The characters in u are a subsequence of the characters in .\n",
    "Any repeat occurrence of a character is removed from the string such that each character in u occurs exactly once. In other words, if the character at some index j in T occurs at a previous index < j  in T , then do not include the character in string u .\n",
    "Given s and k ,print n/k  lines where each line i denotes u string ."
   ]
  },
  {
   "cell_type": "code",
   "execution_count": null,
   "metadata": {},
   "outputs": [],
   "source": [
    "def merge_the_tools(string, k):\n",
    "    n = len(string)\n",
    "    \n",
    "    for i in range(0,n,k):\n",
    "        substr = string[i:i+k]\n",
    "        seen = set()\n",
    "        res = \"\"\n",
    "        \n",
    "        for char in substr:\n",
    "            if char not in seen:\n",
    "                seen.add(char)\n",
    "                res += char\n",
    "        print(res)"
   ]
  }
 ],
 "metadata": {
  "language_info": {
   "name": "python"
  }
 },
 "nbformat": 4,
 "nbformat_minor": 2
}
